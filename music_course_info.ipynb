{
 "cells": [
  {
   "cell_type": "markdown",
   "metadata": {},
   "source": [
    "## KINDA FINISHED, COULD BE IMPROVED UPON"
   ]
  },
  {
   "cell_type": "code",
   "execution_count": 2,
   "metadata": {},
   "outputs": [],
   "source": [
    "from bs4 import BeautifulSoup\n",
    "import requests\n",
    "import pandas as pd"
   ]
  },
  {
   "cell_type": "code",
   "execution_count": 3,
   "metadata": {},
   "outputs": [],
   "source": [
    "html_text = requests.get(\"https://www.openculture.com/freeonlinecourses\").text\n",
    "soup = BeautifulSoup(html_text, 'lxml')"
   ]
  },
  {
   "cell_type": "code",
   "execution_count": 4,
   "metadata": {},
   "outputs": [],
   "source": [
    "# both = soup.find('div', id= 'Music & Performing Arts')\n",
    "genel = soup.find('div', id= 'Music & Performing Arts')\n",
    "music = genel.find_all('ul')[1]\n",
    "coursenamedict=[]\n",
    "providerdict=[]\n",
    "for music in music.find_all('li'):\n",
    "    try:\n",
    "        coursename= music.find('strong').text\n",
    "        coursenamedict.append(coursename)\n",
    "        provider = music.text.split('–')[-1]\n",
    "        providerdict.append(provider.split(',')[-1])\n",
    "    except Exception as e:\n",
    "        coursename = music. find('b').text\n",
    "    \n",
    "    \n",
    "\n",
    "\n"
   ]
  },
  {
   "cell_type": "code",
   "execution_count": 5,
   "metadata": {},
   "outputs": [
    {
     "data": {
      "text/html": [
       "<div>\n",
       "<style scoped>\n",
       "    .dataframe tbody tr th:only-of-type {\n",
       "        vertical-align: middle;\n",
       "    }\n",
       "\n",
       "    .dataframe tbody tr th {\n",
       "        vertical-align: top;\n",
       "    }\n",
       "\n",
       "    .dataframe thead th {\n",
       "        text-align: right;\n",
       "    }\n",
       "</style>\n",
       "<table border=\"1\" class=\"dataframe\">\n",
       "  <thead>\n",
       "    <tr style=\"text-align: right;\">\n",
       "      <th></th>\n",
       "      <th>Course Name</th>\n",
       "      <th>Provider / Person</th>\n",
       "    </tr>\n",
       "  </thead>\n",
       "  <tbody>\n",
       "    <tr>\n",
       "      <th>0</th>\n",
       "      <td>Anarchy in the UK: A History of Punk from 1976-78</td>\n",
       "      <td>University of Reading</td>\n",
       "    </tr>\n",
       "    <tr>\n",
       "      <th>1</th>\n",
       "      <td>Basic Concepts of Music Theory</td>\n",
       "      <td>U. of Wisconsin</td>\n",
       "    </tr>\n",
       "    <tr>\n",
       "      <th>2</th>\n",
       "      <td>Dave Conservatoire (Music Theory Lessons)</td>\n",
       "      <td>London</td>\n",
       "    </tr>\n",
       "    <tr>\n",
       "      <th>3</th>\n",
       "      <td>Introduction to Pitch Systems in Tonal Music</td>\n",
       "      <td>UC Irvine</td>\n",
       "    </tr>\n",
       "    <tr>\n",
       "      <th>4</th>\n",
       "      <td>Introduction to Theatre and Drama Arts</td>\n",
       "      <td>Robert Bradley</td>\n",
       "    </tr>\n",
       "    <tr>\n",
       "      <th>5</th>\n",
       "      <td>Introduction to World Music</td>\n",
       "      <td>John Prescott</td>\n",
       "    </tr>\n",
       "    <tr>\n",
       "      <th>6</th>\n",
       "      <td>Jazz and Culture</td>\n",
       "      <td>Arizona State</td>\n",
       "    </tr>\n",
       "    <tr>\n",
       "      <th>7</th>\n",
       "      <td>Listening to Music</td>\n",
       "      <td>Yale</td>\n",
       "    </tr>\n",
       "    <tr>\n",
       "      <th>8</th>\n",
       "      <td>Stravinsky’s Rite of Spring: Modernism, Ballet...</td>\n",
       "      <td>Harvard</td>\n",
       "    </tr>\n",
       "    <tr>\n",
       "      <th>9</th>\n",
       "      <td>The Ethics of Jazz (Lecture Series)</td>\n",
       "      <td>Harvard</td>\n",
       "    </tr>\n",
       "    <tr>\n",
       "      <th>10</th>\n",
       "      <td>The Language of Music</td>\n",
       "      <td>Missouri State</td>\n",
       "    </tr>\n",
       "    <tr>\n",
       "      <th>11</th>\n",
       "      <td>The British Lectures</td>\n",
       "      <td>Karlheinz Stockhausen</td>\n",
       "    </tr>\n",
       "    <tr>\n",
       "      <th>12</th>\n",
       "      <td>The Unanswered Question: 6 Lectures on Music</td>\n",
       "      <td>Harvard</td>\n",
       "    </tr>\n",
       "  </tbody>\n",
       "</table>\n",
       "</div>"
      ],
      "text/plain": [
       "                                          Course Name       Provider / Person\n",
       "0   Anarchy in the UK: A History of Punk from 1976-78   University of Reading\n",
       "1                      Basic Concepts of Music Theory         U. of Wisconsin\n",
       "2           Dave Conservatoire (Music Theory Lessons)                  London\n",
       "3        Introduction to Pitch Systems in Tonal Music               UC Irvine\n",
       "4              Introduction to Theatre and Drama Arts          Robert Bradley\n",
       "5                         Introduction to World Music           John Prescott\n",
       "6                                    Jazz and Culture           Arizona State\n",
       "7                                  Listening to Music                    Yale\n",
       "8   Stravinsky’s Rite of Spring: Modernism, Ballet...                 Harvard\n",
       "9                 The Ethics of Jazz (Lecture Series)                 Harvard\n",
       "10                              The Language of Music          Missouri State\n",
       "11                               The British Lectures   Karlheinz Stockhausen\n",
       "12      The Unanswered Question: 6 Lectures on Music                  Harvard"
      ]
     },
     "execution_count": 5,
     "metadata": {},
     "output_type": "execute_result"
    }
   ],
   "source": [
    "export_data = pd.DataFrame(data={'Course Name':coursenamedict, 'Provider / Person':providerdict})\n",
    "export_data"
   ]
  },
  {
   "cell_type": "code",
   "execution_count": 6,
   "metadata": {},
   "outputs": [],
   "source": [
    "export_data.to_csv(\"kinda.csv\")"
   ]
  },
  {
   "cell_type": "code",
   "execution_count": null,
   "metadata": {},
   "outputs": [],
   "source": []
  }
 ],
 "metadata": {
  "interpreter": {
   "hash": "cf6cd81b86f564d4817eb7102e9a5939de9d214a1d267d857777c9de98cc3283"
  },
  "kernelspec": {
   "display_name": "Python 3.10.2 ('minimal_ds')",
   "language": "python",
   "name": "python3"
  },
  "language_info": {
   "codemirror_mode": {
    "name": "ipython",
    "version": 3
   },
   "file_extension": ".py",
   "mimetype": "text/x-python",
   "name": "python",
   "nbconvert_exporter": "python",
   "pygments_lexer": "ipython3",
   "version": "3.10.2"
  },
  "orig_nbformat": 4
 },
 "nbformat": 4,
 "nbformat_minor": 2
}
